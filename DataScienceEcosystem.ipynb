{
 "cells": [
  {
   "cell_type": "markdown",
   "id": "6c52f921-0b5f-43b0-b112-4960b42dfba5",
   "metadata": {},
   "source": [
    "# Data Science Tools and Ecosystem"
   ]
  },
  {
   "cell_type": "markdown",
   "id": "014c7dce-700f-4572-a82c-8262c413360a",
   "metadata": {
    "tags": []
   },
   "source": [
    "In this notebook, Data Science Tools and Ecosystem are summarized"
   ]
  },
  {
   "cell_type": "markdown",
   "id": "2c54735d-564d-4011-9cae-fe5b57b357ae",
   "metadata": {},
   "source": [
    "Objectives:\n",
    "- List some of the popular languages used by Data Scientists.\n",
    "- List some of the libraries mostly commonly used by Data Scientists.\n",
    "- Create a table containing development environment open source tools used in data science"
   ]
  },
  {
   "cell_type": "markdown",
   "id": "b0ba554a-f30c-4e8e-a515-5c369f35c0e7",
   "metadata": {},
   "source": [
    "Some of the popular languages that Data Scientists use are:\n",
    "1. Python\n",
    "2. R\n",
    "3. SQL"
   ]
  },
  {
   "cell_type": "markdown",
   "id": "79529da2-6c9c-4c10-9b3f-9f087a129a13",
   "metadata": {},
   "source": [
    "Some of the libraries most commonly used by Data Scientists include:\n",
    "1. Pandas\n",
    "2. Numpy \n",
    "3. Matplotlib"
   ]
  },
  {
   "cell_type": "markdown",
   "id": "70c8a7f8-35d0-4603-b23b-0584e3683066",
   "metadata": {},
   "source": [
    "| Data Science Tools |\n",
    "| --- |\n",
    "| RStudio |\n",
    "| Jupyter |\n",
    "| Spyder |"
   ]
  },
  {
   "cell_type": "markdown",
   "id": "c1524366-6f26-464a-90de-f2fe460e371b",
   "metadata": {},
   "source": [
    "### Below are a few examples of evaluating arithmetic expressions in Python"
   ]
  },
  {
   "cell_type": "code",
   "execution_count": 1,
   "id": "0449e419-2309-4b06-a24c-ac34fa1aa2df",
   "metadata": {
    "tags": []
   },
   "outputs": [
    {
     "data": {
      "text/plain": [
       "17"
      ]
     },
     "execution_count": 1,
     "metadata": {},
     "output_type": "execute_result"
    }
   ],
   "source": [
    "#This a simple arithmetic expression to mutiply then add integers\n",
    "(3*4)+5"
   ]
  },
  {
   "cell_type": "code",
   "execution_count": 2,
   "id": "91800b13-c257-4a56-a8a8-3239415e6a8b",
   "metadata": {
    "tags": []
   },
   "outputs": [
    {
     "data": {
      "text/plain": [
       "3.3333333333333335"
      ]
     },
     "execution_count": 2,
     "metadata": {},
     "output_type": "execute_result"
    }
   ],
   "source": [
    "#This expression will convert 200 Minutes into Hours by dividing by 60\n",
    "200/60"
   ]
  },
  {
   "cell_type": "markdown",
   "id": "b4a89ba4-73bc-49b8-a7de-741dc7edfc83",
   "metadata": {},
   "source": [
    "## Author\n",
    "Joshua Clarke"
   ]
  },
  {
   "cell_type": "code",
   "execution_count": null,
   "id": "f705c56f-2eb3-4a2a-bba9-452ed7291cae",
   "metadata": {},
   "outputs": [],
   "source": []
  }
 ],
 "metadata": {
  "kernelspec": {
   "display_name": "Python",
   "language": "python",
   "name": "conda-env-python-py"
  },
  "language_info": {
   "codemirror_mode": {
    "name": "ipython",
    "version": 3
   },
   "file_extension": ".py",
   "mimetype": "text/x-python",
   "name": "python",
   "nbconvert_exporter": "python",
   "pygments_lexer": "ipython3",
   "version": "3.7.12"
  }
 },
 "nbformat": 4,
 "nbformat_minor": 5
}
